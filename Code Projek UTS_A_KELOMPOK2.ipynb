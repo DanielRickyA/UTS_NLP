{
 "cells": [
  {
   "cell_type": "code",
   "execution_count": 121,
   "metadata": {
    "scrolled": true
   },
   "outputs": [
    {
     "data": {
      "text/html": [
       "<div>\n",
       "<style scoped>\n",
       "    .dataframe tbody tr th:only-of-type {\n",
       "        vertical-align: middle;\n",
       "    }\n",
       "\n",
       "    .dataframe tbody tr th {\n",
       "        vertical-align: top;\n",
       "    }\n",
       "\n",
       "    .dataframe thead th {\n",
       "        text-align: right;\n",
       "    }\n",
       "</style>\n",
       "<table border=\"1\" class=\"dataframe\">\n",
       "  <thead>\n",
       "    <tr style=\"text-align: right;\">\n",
       "      <th></th>\n",
       "      <th>text</th>\n",
       "      <th>lokasi</th>\n",
       "      <th>daya_tarik</th>\n",
       "      <th>amenitas</th>\n",
       "      <th>aksesibilitas</th>\n",
       "      <th>citra</th>\n",
       "      <th>harga</th>\n",
       "      <th>sdm</th>\n",
       "    </tr>\n",
       "  </thead>\n",
       "  <tbody>\n",
       "    <tr>\n",
       "      <th>0</th>\n",
       "      <td>pengelolaanya sudah bagus, cuma akses keluar y...</td>\n",
       "      <td>Candi Borobudur</td>\n",
       "      <td>-</td>\n",
       "      <td>-</td>\n",
       "      <td>-1</td>\n",
       "      <td>-</td>\n",
       "      <td>-1</td>\n",
       "      <td>1</td>\n",
       "    </tr>\n",
       "    <tr>\n",
       "      <th>1</th>\n",
       "      <td>Bayar mahal2. Ada wc airnya gak ada. Sampel mu...</td>\n",
       "      <td>Candi Borobudur</td>\n",
       "      <td>-</td>\n",
       "      <td>-1</td>\n",
       "      <td>-</td>\n",
       "      <td>-</td>\n",
       "      <td>-1</td>\n",
       "      <td>-1</td>\n",
       "    </tr>\n",
       "    <tr>\n",
       "      <th>2</th>\n",
       "      <td>camdi borobudur yang terletak di kab. magelang...</td>\n",
       "      <td>Candi Borobudur</td>\n",
       "      <td>0</td>\n",
       "      <td>1</td>\n",
       "      <td>-</td>\n",
       "      <td>1</td>\n",
       "      <td>0</td>\n",
       "      <td>-</td>\n",
       "    </tr>\n",
       "    <tr>\n",
       "      <th>3</th>\n",
       "      <td>susana disana saya tidak pernah merasakan bosa...</td>\n",
       "      <td>Candi Borobudur</td>\n",
       "      <td>1</td>\n",
       "      <td>-</td>\n",
       "      <td>-</td>\n",
       "      <td>-</td>\n",
       "      <td>-</td>\n",
       "      <td>-</td>\n",
       "    </tr>\n",
       "    <tr>\n",
       "      <th>4</th>\n",
       "      <td>Htm cukup mahal untuk ukuran candi,</td>\n",
       "      <td>Candi Borobudur</td>\n",
       "      <td>-</td>\n",
       "      <td>-</td>\n",
       "      <td>-</td>\n",
       "      <td>-</td>\n",
       "      <td>-1</td>\n",
       "      <td>-</td>\n",
       "    </tr>\n",
       "    <tr>\n",
       "      <th>...</th>\n",
       "      <td>...</td>\n",
       "      <td>...</td>\n",
       "      <td>...</td>\n",
       "      <td>...</td>\n",
       "      <td>...</td>\n",
       "      <td>...</td>\n",
       "      <td>...</td>\n",
       "      <td>...</td>\n",
       "    </tr>\n",
       "    <tr>\n",
       "      <th>1495</th>\n",
       "      <td>Great place to understand our country history</td>\n",
       "      <td>Candi Borobudur</td>\n",
       "      <td>1</td>\n",
       "      <td>-</td>\n",
       "      <td>-</td>\n",
       "      <td>-</td>\n",
       "      <td>-</td>\n",
       "      <td>-</td>\n",
       "    </tr>\n",
       "    <tr>\n",
       "      <th>1496</th>\n",
       "      <td>This is such a historic place. It would be goo...</td>\n",
       "      <td>Candi Borobudur</td>\n",
       "      <td>1</td>\n",
       "      <td>-</td>\n",
       "      <td>-</td>\n",
       "      <td>1</td>\n",
       "      <td>-</td>\n",
       "      <td>-</td>\n",
       "    </tr>\n",
       "    <tr>\n",
       "      <th>1497</th>\n",
       "      <td>Such an amazing place</td>\n",
       "      <td>Candi Borobudur</td>\n",
       "      <td>1</td>\n",
       "      <td>-</td>\n",
       "      <td>-</td>\n",
       "      <td>-</td>\n",
       "      <td>-</td>\n",
       "      <td>-</td>\n",
       "    </tr>\n",
       "    <tr>\n",
       "      <th>1498</th>\n",
       "      <td>This a culturally and historically  significan...</td>\n",
       "      <td>Candi Borobudur</td>\n",
       "      <td>0</td>\n",
       "      <td>-</td>\n",
       "      <td>-</td>\n",
       "      <td>0</td>\n",
       "      <td>-</td>\n",
       "      <td>-</td>\n",
       "    </tr>\n",
       "    <tr>\n",
       "      <th>1499</th>\n",
       "      <td>what can i say. U must go.</td>\n",
       "      <td>Candi Borobudur</td>\n",
       "      <td>0</td>\n",
       "      <td>-</td>\n",
       "      <td>-</td>\n",
       "      <td>-</td>\n",
       "      <td>-</td>\n",
       "      <td>-</td>\n",
       "    </tr>\n",
       "  </tbody>\n",
       "</table>\n",
       "<p>1500 rows × 8 columns</p>\n",
       "</div>"
      ],
      "text/plain": [
       "                                                   text           lokasi  \\\n",
       "0     pengelolaanya sudah bagus, cuma akses keluar y...  Candi Borobudur   \n",
       "1     Bayar mahal2. Ada wc airnya gak ada. Sampel mu...  Candi Borobudur   \n",
       "2     camdi borobudur yang terletak di kab. magelang...  Candi Borobudur   \n",
       "3     susana disana saya tidak pernah merasakan bosa...  Candi Borobudur   \n",
       "4                   Htm cukup mahal untuk ukuran candi,  Candi Borobudur   \n",
       "...                                                 ...              ...   \n",
       "1495      Great place to understand our country history  Candi Borobudur   \n",
       "1496  This is such a historic place. It would be goo...  Candi Borobudur   \n",
       "1497                              Such an amazing place  Candi Borobudur   \n",
       "1498  This a culturally and historically  significan...  Candi Borobudur   \n",
       "1499                         what can i say. U must go.  Candi Borobudur   \n",
       "\n",
       "     daya_tarik amenitas aksesibilitas citra harga sdm  \n",
       "0             -        -            -1     -    -1   1  \n",
       "1             -       -1             -     -    -1  -1  \n",
       "2             0        1             -     1     0   -  \n",
       "3             1        -             -     -     -   -  \n",
       "4             -        -             -     -    -1   -  \n",
       "...         ...      ...           ...   ...   ...  ..  \n",
       "1495          1        -             -     -     -   -  \n",
       "1496          1        -             -     1     -   -  \n",
       "1497          1        -             -     -     -   -  \n",
       "1498          0        -             -     0     -   -  \n",
       "1499          0        -             -     -     -   -  \n",
       "\n",
       "[1500 rows x 8 columns]"
      ]
     },
     "execution_count": 121,
     "metadata": {},
     "output_type": "execute_result"
    }
   ],
   "source": [
    "import pandas as pd\n",
    "\n",
    "dataFrame = pd.read_csv('dataset-gold-borobudur-prambanan-all.csv', nrows=1500 ,encoding='latin1')\n",
    "\n",
    "data_text = dataFrame[['text', 'lokasi', 'daya_tarik', 'amenitas','aksesibilitas', 'citra', 'harga', 'sdm']]\n",
    "\n",
    "data_text\n"
   ]
  },
  {
   "cell_type": "code",
   "execution_count": 122,
   "metadata": {},
   "outputs": [],
   "source": [
    "import numpy as np\n",
    "import pandas as pd\n",
    "import modSpellChecker as sc\n",
    "from contractions import CONTRACTION_MAP\n",
    "import re\n",
    "import nltk\n",
    "import string\n",
    "from Sastrawi.Stemmer.StemmerFactory import StemmerFactory\n",
    "from nltk.corpus import wordnet as wn\n",
    "from Sastrawi.StopWordRemover.StopWordRemoverFactory import StopWordRemoverFactory\n",
    "\n",
    "from sklearn.feature_extraction.text import TfidfTransformer\n",
    "from sklearn.feature_extraction.text import TfidfVectorizer\n",
    "from sklearn.model_selection import train_test_split\n",
    "from sklearn import metrics"
   ]
  },
  {
   "cell_type": "code",
   "execution_count": 123,
   "metadata": {},
   "outputs": [
    {
     "data": {
      "text/plain": [
       "(1500, 8)"
      ]
     },
     "execution_count": 123,
     "metadata": {},
     "output_type": "execute_result"
    }
   ],
   "source": [
    "\n",
    "#  Data Preparation\n",
    "data_text.shape"
   ]
  },
  {
   "cell_type": "code",
   "execution_count": 124,
   "metadata": {},
   "outputs": [],
   "source": [
    "\n",
    "feature = data_text.iloc[:,0]\n",
    "\n",
    "classification_mapping = {\n",
    "    '-1': 'negative',\n",
    "    '0': 'neutral',\n",
    "    '1': 'positive',\n",
    "    '-': 'none'\n",
    "}\n",
    "\n",
    "classification_columns = ['daya_tarik', 'amenitas','aksesibilitas', 'citra', 'harga', 'sdm']\n",
    "\n",
    "for column in classification_columns:\n",
    "    data_text.loc[:, column] = data_text[column].map(classification_mapping)\n",
    "\n",
    "label1 = data_text['daya_tarik']\n",
    "label2 = data_text['amenitas']\n",
    "label3 = data_text['aksesibilitas']\n",
    "label4 = data_text['citra']\n",
    "label5 = data_text['harga']\n",
    "label6 = data_text['sdm']\n"
   ]
  },
  {
   "cell_type": "code",
   "execution_count": 125,
   "metadata": {},
   "outputs": [
    {
     "data": {
      "text/plain": [
       "daya_tarik\n",
       "positive    1097\n",
       "none         233\n",
       "neutral      152\n",
       "negative      18\n",
       "Name: count, dtype: int64"
      ]
     },
     "execution_count": 125,
     "metadata": {},
     "output_type": "execute_result"
    }
   ],
   "source": [
    "df = data_text['daya_tarik'].value_counts()\n",
    "\n",
    "df"
   ]
  },
  {
   "cell_type": "code",
   "execution_count": 126,
   "metadata": {},
   "outputs": [
    {
     "data": {
      "text/plain": [
       "0           none\n",
       "1           none\n",
       "2        neutral\n",
       "3       positive\n",
       "4           none\n",
       "          ...   \n",
       "1495    positive\n",
       "1496    positive\n",
       "1497    positive\n",
       "1498     neutral\n",
       "1499     neutral\n",
       "Name: daya_tarik, Length: 1500, dtype: object"
      ]
     },
     "execution_count": 126,
     "metadata": {},
     "output_type": "execute_result"
    }
   ],
   "source": [
    "label1"
   ]
  },
  {
   "cell_type": "code",
   "execution_count": 127,
   "metadata": {},
   "outputs": [
    {
     "data": {
      "text/plain": [
       "0    pengelolaanya sudah bagus, cuma akses keluar y...\n",
       "1    Bayar mahal2. Ada wc airnya gak ada. Sampel mu...\n",
       "2    camdi borobudur yang terletak di kab. magelang...\n",
       "3    susana disana saya tidak pernah merasakan bosa...\n",
       "4                  Htm cukup mahal untuk ukuran candi,\n",
       "5    Sebagai salah satu warisan dunia, borobudur me...\n",
       "6    Candinya yang penuh akan histori, tapi lebih b...\n",
       "7    Di foto keren nyata nya lbh keren , emg luar b...\n",
       "8    Bagus kamarnya Luas.\\nBersih serta strategis k...\n",
       "9    Tempat enak nyaman bersih bagus buat liburan, ...\n",
       "Name: text, dtype: object"
      ]
     },
     "execution_count": 127,
     "metadata": {},
     "output_type": "execute_result"
    }
   ],
   "source": [
    "feature[0:10]"
   ]
  },
  {
   "cell_type": "code",
   "execution_count": 128,
   "metadata": {},
   "outputs": [],
   "source": [
    "# Normalisasi Data\n",
    "character =['z','y','x','w','v','u','t','s','r','q','p','o','n','m','l','k','j','i','h','g','f',\n",
    "            'e','d',',','.',';',':','-','...','?','!','(',')','[',']','{','}','<','>','\"','/','\\'','#','-','@']\n",
    "def repeatcharNormalize(text):\n",
    "    for i in range(len(character)):\n",
    "        charac_long = 5\n",
    "        while charac_long>=2:\n",
    "            char=character[i]*charac_long\n",
    "            text=text.replace(char,character[i])\n",
    "            charac_long-=1\n",
    "        return text\n",
    "def spellNormalize(text):\n",
    "    spellCheck = []\n",
    "    for i in text:\n",
    "        if i not in character:\n",
    "            j=sc.correction(i)\n",
    "            spellCheck.append(j)\n",
    "        else:\n",
    "            spellCheck.append(i)\n",
    "        return spellCheck\n",
    "def tokenize_text(text):\n",
    "    tokens=nltk.word_tokenize(text)\n",
    "    tokens=[token.strip() for token in tokens]\n",
    "    return tokens\n",
    "def expand_contractions(text, contraction_mapping):\n",
    "    contractions_pattern = re.compile('({})'.format('|'.join(contraction_mapping.keys())),\n",
    "                                        flags=re.IGNORECASE|re.DOTALL)\n",
    "    def expand_match(contraction):\n",
    "        match = contraction.group(0)\n",
    "        first_char = match[0]\n",
    "        expanded_contraction = contraction_mapping.get(match)\\\n",
    "                               if contraction_mapping.get(match)\\\n",
    "                                else contraction_mapping.get(match.lower())\n",
    "        expanded_contraction = first_char + expanded_contraction[1:]\n",
    "        return expanded_contraction\n",
    "    expanded_text = contractions_pattern.sub(expand_match, text)\n",
    "    expanded_text = re.sub(\"'\",\"\", expanded_text)\n",
    "    return expanded_text\n",
    "def stemmer_text(text):\n",
    "    factory = StemmerFactory()\n",
    "    stemmer = factory.create_stemmer()\n",
    "    text = stemmer.stem(text)\n",
    "    return text\n",
    "\n"
   ]
  },
  {
   "cell_type": "code",
   "execution_count": 129,
   "metadata": {},
   "outputs": [],
   "source": [
    "def remove_special_characters(text):\n",
    "    tokens = tokenize_text(text)\n",
    "    pattern = re.compile('[{}]'.format(re.escape(string.punctuation)))\n",
    "    filtered_tokens = filter(None, [pattern.sub('',token) for token in tokens])\n",
    "    filtered_text = ' '.join(filtered_tokens)\n",
    "    return filtered_text\n",
    "\n",
    "factory = StopWordRemoverFactory()\n",
    "stopword_list = factory.get_stop_words()\n",
    "\n",
    "def remove_stopwords(text):\n",
    "    tokens = tokenize_text(text)\n",
    "    filtered_tokens = [token for token in tokens if token not in stopword_list]\n",
    "    filtered_text = ' '.join(filtered_tokens)\n",
    "    return filtered_text\n",
    "\n",
    "def normalize_corpus(corpus, tokenize=False):\n",
    "    normalized_corpus = []\n",
    "    for text in corpus:\n",
    "        text = expand_contractions(text, CONTRACTION_MAP)\n",
    "        text = stemmer_text(text)\n",
    "        text = remove_special_characters(text)\n",
    "        text = repeatcharNormalize(text)\n",
    "        text = remove_stopwords(text)\n",
    "        normalized_corpus.append(text)\n",
    "        if tokenize:\n",
    "            text = tokenize_text(text)\n",
    "            text = spellNormalize(text)\n",
    "            normalized_corpus.append(text)\n",
    "    # print(normalized_corpus)\n",
    "    return normalized_corpus\n"
   ]
  },
  {
   "cell_type": "code",
   "execution_count": 130,
   "metadata": {},
   "outputs": [],
   "source": [
    "def prepare_datasets(corpus, labels, test_data_proportion=0.3):\n",
    "    train_X, test_X, train_Y, test_Y = train_test_split(corpus, labels,\n",
    "                                                        test_size=0.33,\n",
    "                                                        random_state=42)\n",
    "    return train_X, test_X, train_Y, test_Y\n",
    "\n",
    "train_corpus, test_corpus, train_labels, test_labels = prepare_datasets(feature,label1,test_data_proportion=0.3)\n",
    "\n"
   ]
  },
  {
   "cell_type": "code",
   "execution_count": 131,
   "metadata": {},
   "outputs": [],
   "source": [
    "# Normalize Data\n",
    "norm_train_corpus = normalize_corpus(train_corpus)"
   ]
  },
  {
   "cell_type": "code",
   "execution_count": 132,
   "metadata": {},
   "outputs": [
    {
     "data": {
      "text/plain": [
       "['panas bgtttt biasa aja mehong bgttt 50 rb masuk dgn jalan yg jauh kurang fasilitas utk kendara cuman beberapa banding sm wisatawan yg masuk semua pakai uang padahal candi byk yg rusak truz pas mau pulang udh cape bawa puterin keliling toko2',\n",
       " 'sangat senang lestari budidaya indonesia',\n",
       " 'sangat bagus indah cuman betul krmarin pas kesana cuaca dukung hujan nya sangat deras anginny kencang sekli jdi ggl g naik atas',\n",
       " 'the biggest buddhist temple in the world always fascinating',\n",
       " 'world heritage',\n",
       " 'tempat wisata sejarah yg jadi waris budaya dunia sangat manfaat sekali utama ajar wisata borobudur kenal salah satu tinggal sejarah indonesia yg jadi waris budaya dunia',\n",
       " 'one of seven wonder beautiful place not the management i give 3 stars for make us walking through all the souvenirs maze that never ends with my kids complaining want to go back to the car asap at least they have to provide the option to go back to the car with direct route we paid for the temple not to see the souvenirs the staff at exit order us to use only one exit doors to make us walk through an endless maze of gift shops',\n",
       " 'jangan lupa bawa air mineral karna bener2 panas lelah buat naik atas',\n",
       " 'tempat bagus banget sana tour guide nya yg kasih jelas sejarah borobudur tempat loket candi borobudurnya jauh usahain bawa payung biar ga panas keujanan pas sana hehe pas naik puncak candi liat pandang bagus banget sana jual souvenir',\n",
       " 'udah 2 kali kesini keren bgt ajaib dunia yg 7 bangga bgt sih capek naik tangga plus rame bgt']"
      ]
     },
     "execution_count": 132,
     "metadata": {},
     "output_type": "execute_result"
    }
   ],
   "source": [
    "norm_train_corpus[0:10]"
   ]
  },
  {
   "cell_type": "code",
   "execution_count": 133,
   "metadata": {},
   "outputs": [],
   "source": [
    "norm_test_corpus = normalize_corpus(test_corpus)\n"
   ]
  },
  {
   "cell_type": "code",
   "execution_count": 134,
   "metadata": {},
   "outputs": [
    {
     "data": {
      "text/plain": [
       "['you might need the experience to visit the worlds largest buddhist temple',\n",
       " 'awesome',\n",
       " 'salah satu tempat sangat indah indonesia',\n",
       " 'wisata murah riah buat keluarga tiket rp 50 000 dewasa rp 25 000 anak2 berangkat pagi siang unjung makin membludak',\n",
       " 'cukup komersial kunjung harga tiket 50 ribu yg turut cukup mahal kunjung lihat candi',\n",
       " 'sungguh pandang sangat kagum pandang buat takjub jadi bayang bagaimana proses bangun jaman kala sungguh sangat luar biasa karya seni tingkat tinggi dasar kultural religi',\n",
       " 'amazing structure zabur duplicate',\n",
       " 'candi borobudur ajaib dunia yg tdk dipungkiri',\n",
       " 'you can come here by taking a bus from jombor bus station in yogyakarta for 30k and if you want to go back to yogya at 67 pm you can just take a bus back for the same price from the bus station where you arrived alot cheaper that the tours',\n",
       " 'the largest buddhist temple in the world inti keren banget candi pas weekend selalu rame sama anak sekolah orang libur maupun turis hari mutermuter candi asa amazed sama sejarah arsitektur bahkan filosofi sayang ajar harga candi sendiri baik museum pusat informasi maupun tata cara ziarah rasa spirit candi sendiri banyak manfaat cara seluruh candi borobudur bikin aku bangga jadi indonesia agam']"
      ]
     },
     "execution_count": 134,
     "metadata": {},
     "output_type": "execute_result"
    }
   ],
   "source": [
    "norm_test_corpus[0:10]\n"
   ]
  },
  {
   "cell_type": "code",
   "execution_count": 135,
   "metadata": {},
   "outputs": [],
   "source": [
    "# Ekstraksi Fitur"
   ]
  },
  {
   "cell_type": "code",
   "execution_count": 136,
   "metadata": {},
   "outputs": [],
   "source": [
    "#Fungsi untuk mengekstraksi feature menggunakan TF-IDF Model\n",
    "def tfidf_transformer(bow_matrix):\n",
    "    transformer = TfidfTransformer(norm='l2',\n",
    "                                   smooth_idf=True,\n",
    "                                   use_idf=True)\n",
    "    tfidf_matrix = transformer.fit_transform(bow_matrix)\n",
    "    return transformer, tfidf_matrix\n",
    "\n",
    "\n",
    "def tfidf_extractor(corpus, ngram_range=(1,1)):\n",
    "    vectorizer = TfidfVectorizer(min_df=1,\n",
    "                                 norm='l2',\n",
    "                                 smooth_idf=True,\n",
    "                                 use_idf=True,\n",
    "                                 ngram_range=ngram_range)\n",
    "    features = vectorizer.fit_transform(corpus)\n",
    "    return vectorizer, features"
   ]
  },
  {
   "cell_type": "code",
   "execution_count": 137,
   "metadata": {},
   "outputs": [],
   "source": [
    "#mengunakan model TF-IDF untuk mengekstraksi feature\n",
    "tfidf_vectorizer, tfidf_train_features = tfidf_extractor(norm_train_corpus)\n",
    "tfidf_test_features = tfidf_vectorizer.transform(norm_test_corpus)\n"
   ]
  },
  {
   "cell_type": "code",
   "execution_count": 138,
   "metadata": {},
   "outputs": [],
   "source": [
    "from sklearn.linear_model import SGDClassifier\n",
    "\n",
    "train_features=tfidf_train_features\n",
    "train_labels=train_labels\n",
    "\n",
    "test_features=tfidf_test_features\n",
    "test_labels=test_labels"
   ]
  },
  {
   "cell_type": "code",
   "execution_count": 139,
   "metadata": {},
   "outputs": [],
   "source": [
    "df_train = pd.DataFrame()\n",
    "df_train['norm_train'] = norm_train_corpus\n",
    "df_train['train_labels'] = train_labels\n",
    "df_test = pd.DataFrame()\n",
    "df_test['norm_test'] = norm_test_corpus\n",
    "df_test['test_labels'] = test_labels\n"
   ]
  },
  {
   "cell_type": "code",
   "execution_count": 140,
   "metadata": {},
   "outputs": [
    {
     "data": {
      "text/html": [
       "<div>\n",
       "<style scoped>\n",
       "    .dataframe tbody tr th:only-of-type {\n",
       "        vertical-align: middle;\n",
       "    }\n",
       "\n",
       "    .dataframe tbody tr th {\n",
       "        vertical-align: top;\n",
       "    }\n",
       "\n",
       "    .dataframe thead th {\n",
       "        text-align: right;\n",
       "    }\n",
       "</style>\n",
       "<table border=\"1\" class=\"dataframe\">\n",
       "  <thead>\n",
       "    <tr style=\"text-align: right;\">\n",
       "      <th></th>\n",
       "      <th>norm_train</th>\n",
       "      <th>train_labels</th>\n",
       "    </tr>\n",
       "  </thead>\n",
       "  <tbody>\n",
       "    <tr>\n",
       "      <th>0</th>\n",
       "      <td>panas bgtttt biasa aja mehong bgttt 50 rb masu...</td>\n",
       "      <td>none</td>\n",
       "    </tr>\n",
       "    <tr>\n",
       "      <th>1</th>\n",
       "      <td>sangat senang lestari budidaya indonesia</td>\n",
       "      <td>none</td>\n",
       "    </tr>\n",
       "    <tr>\n",
       "      <th>2</th>\n",
       "      <td>sangat bagus indah cuman betul krmarin pas kes...</td>\n",
       "      <td>neutral</td>\n",
       "    </tr>\n",
       "    <tr>\n",
       "      <th>3</th>\n",
       "      <td>the biggest buddhist temple in the world alway...</td>\n",
       "      <td>positive</td>\n",
       "    </tr>\n",
       "    <tr>\n",
       "      <th>4</th>\n",
       "      <td>world heritage</td>\n",
       "      <td>none</td>\n",
       "    </tr>\n",
       "  </tbody>\n",
       "</table>\n",
       "</div>"
      ],
      "text/plain": [
       "                                          norm_train train_labels\n",
       "0  panas bgtttt biasa aja mehong bgttt 50 rb masu...         none\n",
       "1           sangat senang lestari budidaya indonesia         none\n",
       "2  sangat bagus indah cuman betul krmarin pas kes...      neutral\n",
       "3  the biggest buddhist temple in the world alway...     positive\n",
       "4                                     world heritage         none"
      ]
     },
     "execution_count": 140,
     "metadata": {},
     "output_type": "execute_result"
    }
   ],
   "source": [
    "df_train.head()"
   ]
  },
  {
   "cell_type": "code",
   "execution_count": 141,
   "metadata": {},
   "outputs": [
    {
     "data": {
      "text/html": [
       "<div>\n",
       "<style scoped>\n",
       "    .dataframe tbody tr th:only-of-type {\n",
       "        vertical-align: middle;\n",
       "    }\n",
       "\n",
       "    .dataframe tbody tr th {\n",
       "        vertical-align: top;\n",
       "    }\n",
       "\n",
       "    .dataframe thead th {\n",
       "        text-align: right;\n",
       "    }\n",
       "</style>\n",
       "<table border=\"1\" class=\"dataframe\">\n",
       "  <thead>\n",
       "    <tr style=\"text-align: right;\">\n",
       "      <th></th>\n",
       "      <th>norm_test</th>\n",
       "      <th>test_labels</th>\n",
       "    </tr>\n",
       "  </thead>\n",
       "  <tbody>\n",
       "    <tr>\n",
       "      <th>0</th>\n",
       "      <td>you might need the experience to visit the wor...</td>\n",
       "      <td>NaN</td>\n",
       "    </tr>\n",
       "    <tr>\n",
       "      <th>1</th>\n",
       "      <td>awesome</td>\n",
       "      <td>NaN</td>\n",
       "    </tr>\n",
       "    <tr>\n",
       "      <th>2</th>\n",
       "      <td>salah satu tempat sangat indah indonesia</td>\n",
       "      <td>NaN</td>\n",
       "    </tr>\n",
       "    <tr>\n",
       "      <th>3</th>\n",
       "      <td>wisata murah riah buat keluarga tiket rp 50 00...</td>\n",
       "      <td>NaN</td>\n",
       "    </tr>\n",
       "    <tr>\n",
       "      <th>4</th>\n",
       "      <td>cukup komersial kunjung harga tiket 50 ribu yg...</td>\n",
       "      <td>NaN</td>\n",
       "    </tr>\n",
       "  </tbody>\n",
       "</table>\n",
       "</div>"
      ],
      "text/plain": [
       "                                           norm_test test_labels\n",
       "0  you might need the experience to visit the wor...         NaN\n",
       "1                                            awesome         NaN\n",
       "2           salah satu tempat sangat indah indonesia         NaN\n",
       "3  wisata murah riah buat keluarga tiket rp 50 00...         NaN\n",
       "4  cukup komersial kunjung harga tiket 50 ribu yg...         NaN"
      ]
     },
     "execution_count": 141,
     "metadata": {},
     "output_type": "execute_result"
    }
   ],
   "source": [
    "df_test.head()"
   ]
  },
  {
   "cell_type": "code",
   "execution_count": 142,
   "metadata": {},
   "outputs": [
    {
     "data": {
      "text/plain": [
       "<1x3640 sparse matrix of type '<class 'numpy.float64'>'\n",
       "\twith 39 stored elements in Compressed Sparse Row format>"
      ]
     },
     "execution_count": 142,
     "metadata": {},
     "output_type": "execute_result"
    }
   ],
   "source": [
    "train_features[0:1]"
   ]
  },
  {
   "cell_type": "code",
   "execution_count": 143,
   "metadata": {},
   "outputs": [
    {
     "data": {
      "text/plain": [
       "591    negative\n",
       "Name: daya_tarik, dtype: object"
      ]
     },
     "execution_count": 143,
     "metadata": {},
     "output_type": "execute_result"
    }
   ],
   "source": [
    "train_labels[0:1]"
   ]
  },
  {
   "cell_type": "code",
   "execution_count": 144,
   "metadata": {},
   "outputs": [
    {
     "name": "stdout",
     "output_type": "stream",
     "text": [
      "Label test: \n",
      "1116    positive\n",
      "1368    positive\n",
      "422     positive\n",
      "413         none\n",
      "451     negative\n",
      "861     positive\n",
      "1063    positive\n",
      "741     positive\n",
      "1272        none\n",
      "259     positive\n",
      "Name: daya_tarik, dtype: object\n",
      "Prediction test: \n",
      "['positive' 'positive' 'positive' 'positive' 'none' 'positive' 'positive'\n",
      " 'neutral' 'positive' 'positive']\n"
     ]
    }
   ],
   "source": [
    "from sklearn.ensemble import RandomForestClassifier\n",
    "from sklearn.model_selection import GridSearchCV\n",
    "clf = RandomForestClassifier()\n",
    "\n",
    "param_grid = {\n",
    "    'n_estimators': [100, 200, 300],\n",
    "    'max_depth': [None, 10, 20, 30],\n",
    "}\n",
    "\n",
    "grid_search = GridSearchCV(clf, param_grid, cv=5)\n",
    "grid_search.fit(train_features, train_labels)\n",
    "\n",
    "best_clf = grid_search.best_estimator_\n",
    "best_predictions = best_clf.predict(test_features)\n",
    "\n",
    "print(\"Label test: \\n\" + format(test_labels[:10]))\n",
    "# print(\"Prediction test: \\n\"+ format(predictions[:10]))\n",
    "\n",
    "print(\"Prediction test: \\n\"+ format(best_predictions[:10]))\n"
   ]
  },
  {
   "cell_type": "code",
   "execution_count": 145,
   "metadata": {},
   "outputs": [
    {
     "name": "stdout",
     "output_type": "stream",
     "text": [
      "Accuration: 0.7313131313131314\n"
     ]
    }
   ],
   "source": [
    "print(\"Accuration: \"+format(best_clf.score(test_features,test_labels)))"
   ]
  },
  {
   "cell_type": "code",
   "execution_count": 146,
   "metadata": {},
   "outputs": [
    {
     "name": "stdout",
     "output_type": "stream",
     "text": [
      "Accuracy:  0.73\n",
      "Precision:  0.69\n",
      "Recall:  0.73\n",
      "F1 Score:  0.68\n"
     ]
    }
   ],
   "source": [
    "def get_metrics(true_labels, predicted_labels):\n",
    "    print('Accuracy: ', np.round(metrics.accuracy_score(true_labels, predicted_labels),2))\n",
    "    print('Precision: ', np.round(metrics.precision_score(true_labels, predicted_labels, average='weighted',zero_division=1),2))\n",
    "    print('Recall: ', np.round(metrics.recall_score(true_labels, predicted_labels, average='weighted'),2))\n",
    "    print('F1 Score: ', np.round(metrics.f1_score(true_labels, predicted_labels, average='weighted'),2))\n",
    "\n",
    "    \n",
    "# mengevaluasi performa prediksi menggunakan model\n",
    "get_metrics(true_labels=test_labels,predicted_labels=best_predictions)"
   ]
  },
  {
   "cell_type": "code",
   "execution_count": 147,
   "metadata": {},
   "outputs": [
    {
     "name": "stdout",
     "output_type": "stream",
     "text": [
      "Label test: \n",
      "1116    positive\n",
      "1368    positive\n",
      "422     positive\n",
      "413         none\n",
      "451     negative\n",
      "861     positive\n",
      "1063    positive\n",
      "741     positive\n",
      "1272        none\n",
      "259     positive\n",
      "Name: daya_tarik, dtype: object\n",
      "Prediction test: \n",
      "['positive' 'positive' 'positive' 'positive' 'none' 'positive' 'positive'\n",
      " 'positive' 'positive' 'positive']\n",
      "Accuration: 0.7515151515151515\n"
     ]
    }
   ],
   "source": [
    "from sklearn.pipeline import Pipeline\n",
    "from sklearn.feature_selection import SelectKBest, chi2\n",
    "from sklearn.svm import LinearSVC\n",
    "from sklearn.naive_bayes import MultinomialNB\n",
    "\n",
    "pipeline = Pipeline([('vect', tfidf_vectorizer),\n",
    "                        ('chi',  SelectKBest(chi2, k=1200)),\n",
    "                        ('clf', LinearSVC(C=1.0, penalty='l1', max_iter=3000, dual=False))])\n",
    "\n",
    "model = pipeline.fit(train_corpus, train_labels)\n",
    "predictions = model.predict(test_corpus)\n",
    "print(\"Label test: \\n\" + format(test_labels[:10]))\n",
    "print(\"Prediction test: \\n\"+ format(predictions[:10]))\n",
    "print(\"Accuration: \"+format(model.score(test_corpus,test_labels)))"
   ]
  },
  {
   "cell_type": "code",
   "execution_count": 148,
   "metadata": {},
   "outputs": [
    {
     "data": {
      "image/png": "[encoded data removed]",
      "text/plain": [
       "<Figure size 640x480 with 2 Axes>"
      ]
     },
     "metadata": {},
     "output_type": "display_data"
    }
   ],
   "source": [
    "import matplotlib.pyplot as plt\n",
    "import numpy as np\n",
    "import itertools\n",
    "from sklearn.metrics import confusion_matrix\n",
    "\n",
    "def plot_confusion_matrix(cm, classes, normalize=False, title='Confusion matrix', cmap=plt.cm.Blues):\n",
    "    plt.imshow(cm, interpolation='nearest', cmap=cmap)\n",
    "    plt.title(title)\n",
    "    plt.colorbar()\n",
    "    tick_marks = np.arange(len(classes))\n",
    "    plt.xticks(tick_marks, classes, rotation=45) \n",
    "    plt.yticks(tick_marks, classes)\n",
    "\n",
    "    if normalize:\n",
    "        cm = cm.astype('float') / cm.sum(axis=1)[:, np.newaxis]\n",
    "\n",
    "    thresh = cm.max() / 2.\n",
    "    for i, j in itertools.product(range(cm.shape[0]), range(cm.shape[1])):\n",
    "        plt.text(j, i, format(cm[i, j], '.2f') if normalize else str(cm[i, j]), horizontalalignment=\"center\", \n",
    "                 color=\"white\" if cm[i, j] > thresh else \"black\")\n",
    "\n",
    "    plt.tight_layout()\n",
    "    plt.ylabel('True label')\n",
    "    plt.xlabel('Predicted label')\n",
    "\n",
    "# define cnf_matrix here\n",
    "cnf_matrix = confusion_matrix(test_labels, best_predictions)\n",
    "\n",
    "plot_confusion_matrix(cnf_matrix, classes=['none', 'neutral', 'negative', 'positive'], title='Confusion matrix')\n"
   ]
  }
 ],
 "metadata": {
  "kernelspec": {
   "display_name": "Python 3 (ipykernel)",
   "language": "python",
   "name": "python3"
  },
  "language_info": {
   "codemirror_mode": {
    "name": "ipython",
    "version": 3
   },
   "file_extension": ".py",
   "mimetype": "text/x-python",
   "name": "python",
   "nbconvert_exporter": "python",
   "pygments_lexer": "ipython3",
   "version": "3.11.5"
  }
 },
 "nbformat": 4,
 "nbformat_minor": 4
}
