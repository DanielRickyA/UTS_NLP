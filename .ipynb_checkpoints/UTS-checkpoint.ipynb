{
 "cells": [
  {
   "cell_type": "code",
   "execution_count": 10,
   "metadata": {},
   "outputs": [
    {
     "name": "stdout",
     "output_type": "stream",
     "text": [
      "               lokasi                                               text\n",
      "2085  Candi Prambanan  Salah satu peninggalan bersejarah dari jaman d...\n",
      "2086  Candi Prambanan  Cocok buat Selfi tp sayangnya parkiran ke cand...\n",
      "2087  Candi Prambanan  Tempatnya indah, bersih dan rapi. Menyenangkan !!\n",
      "2088  Candi Prambanan  Kunjungi warisan leluhur kita bangga lah denga...\n",
      "2089  Candi Prambanan  Senantiasa dilewati jika pulang ketanah leluhu...\n",
      "...               ...                                                ...\n",
      "4390  Candi Prambanan  The place is great and probably everything you...\n",
      "4391  Candi Prambanan  Prambanan or Rara Jonggrang (Javanese: ???????...\n",
      "4392  Candi Prambanan  This temple is not worth the price. Theres no...\n",
      "4393  Candi Prambanan  Prambanan temple is the largest hindu temple o...\n",
      "4394  Candi Prambanan  Best choice for me of the three most-famous te...\n",
      "\n",
      "[2310 rows x 2 columns]\n"
     ]
    }
   ],
   "source": [
    "import pandas as pd\n",
    "\n",
    "# Read the CSV file into a dataframe with a specified number of rows\n",
    "# Specify the number of rows you want to read\n",
    "df = pd.read_csv('dataset-gold-borobudur-prambanan-all.csv', encoding='latin1')\n",
    "\n",
    "# Select only two columns\n",
    "selected_columns = df[['lokasi', 'text']]\n",
    "\n",
    "# filter lokasi to Candi Borobudur\n",
    "selected_columns = selected_columns[selected_columns['lokasi'] == 'Candi Prambanan']\n",
    "\n",
    "\n",
    "\n",
    "# Display the selected columns\n",
    "print(selected_columns)"
   ]
  },
  {
   "cell_type": "code",
   "execution_count": null,
   "metadata": {},
   "outputs": [],
   "source": []
  }
 ],
 "metadata": {
  "kernelspec": {
   "display_name": "base",
   "language": "python",
   "name": "python3"
  },
  "language_info": {
   "codemirror_mode": {
    "name": "ipython",
    "version": 3
   },
   "file_extension": ".py",
   "mimetype": "text/x-python",
   "name": "python",
   "nbconvert_exporter": "python",
   "pygments_lexer": "ipython3",
   "version": "3.11.5"
  }
 },
 "nbformat": 4,
 "nbformat_minor": 2
}
